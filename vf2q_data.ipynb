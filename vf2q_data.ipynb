{
 "cells": [
  {
   "cell_type": "markdown",
   "metadata": {},
   "source": [
    "# VF2Q"
   ]
  },
  {
   "cell_type": "code",
   "execution_count": 1,
   "metadata": {},
   "outputs": [],
   "source": [
    "from ag import *\n",
    "from vf2q import VF2Q\n",
    "from qiskit.circuit import QuantumCircuit\n",
    "from networkx import Graph\n",
    "from numpy import inf\n",
    "\n",
    "import csv\n",
    "import os\n",
    "import time"
   ]
  },
  {
   "cell_type": "code",
   "execution_count": 3,
   "metadata": {},
   "outputs": [],
   "source": [
    "def run(arch: Graph, circ: QuantumCircuit, reps: int) -> dict:\n",
    "\n",
    "    VF2Q.archgraph = arch\n",
    "    VF2Q.circuit = circ\n",
    "\n",
    "    min_runtime = inf\n",
    "    min_subcircs = inf\n",
    "    min_swaps = inf\n",
    "    min_depth = inf\n",
    "    min_gates = inf\n",
    "    best_circ = None\n",
    "\n",
    "    for _ in range(reps):\n",
    "\n",
    "        start = time.time()\n",
    "        VF2Q.partition_circuit()\n",
    "        VF2Q.match_subcircs(w1=0.1, w2=0.1)\n",
    "        VF2Q.apply_swaps()\n",
    "        VF2Q.transform_circuit(decompose=True)\n",
    "        end = time.time()\n",
    "\n",
    "        # objective: depth\n",
    "        if VF2Q.transformed_circ.depth() < min_depth:\n",
    "            min_runtime = end - start\n",
    "            min_subcircs = len(VF2Q.subcircs)\n",
    "            min_swaps = sum([len(swaps) for swaps in VF2Q.swaps])\n",
    "            min_depth = VF2Q.transformed_circ.depth()\n",
    "            min_gates = len(VF2Q.transformed_circ)\n",
    "            best_circ = VF2Q.transformed_circ\n",
    "        \n",
    "    return {\n",
    "        \"min_runtime\": min_runtime,\n",
    "        \"min_subcircs\": min_subcircs,\n",
    "        \"min_swaps\": min_swaps,\n",
    "        \"min_depth\": min_depth,\n",
    "        \"min_gates\": min_gates,\n",
    "        \"best_circ\": best_circ\n",
    "    }"
   ]
  },
  {
   "cell_type": "code",
   "execution_count": null,
   "metadata": {},
   "outputs": [],
   "source": [
    "ARCH = tokyo()\n",
    "BENCH = \"benchmark/qiskit_bench/\"\n",
    "MAX_NUM_QUBITS = 16\n",
    "REPS = 1\n",
    "\n",
    "csv_file = open(\"vf2q_data1.csv\", \"w\", newline=\"\")\n",
    "writer = csv.writer(csv_file)\n",
    "writer.writerow([\n",
    "    \"circuit\",\n",
    "    \"#subcircuits\",\n",
    "    \"#swaps\",\n",
    "    \"depth_overhead\",\n",
    "    \"gate_overhead\",\n",
    "    \"runtime\"\n",
    "])\n",
    "\n",
    "for file in os.listdir(BENCH):\n",
    "\n",
    "    circ_name = file.rstrip(\".qasm\")\n",
    "    \n",
    "    if int(circ_name.split('_')[-1]) > MAX_NUM_QUBITS:\n",
    "        continue\n",
    "\n",
    "    circ = QuantumCircuit.from_qasm_file(BENCH + file)\n",
    "    res = run(ARCH, circ, REPS)\n",
    "\n",
    "    print(circ_name)\n",
    "    print(f\"runtime: {res['min_runtime']}\")\n",
    "    print(f\"#subcircuits: {VF2Q.circuit.depth()} -> {res['min_subcircs']} ({res['min_subcircs'] - VF2Q.circuit.depth()})\")\n",
    "    print(f\"#swaps: {res['min_swaps']}\")\n",
    "    print(f\"#depth: {VF2Q.circuit.depth()} -> {res['min_depth']} (+{res['min_depth'] - VF2Q.circuit.depth()})\")\n",
    "    print(f\"#gates: {len(VF2Q.circuit)} -> {res['min_gates']} (+{res['min_gates'] - len(VF2Q.circuit)})\")\n",
    "    print()\n",
    "\n",
    "    writer.writerow([\n",
    "        circ_name,\n",
    "        res[\"min_subcircs\"],\n",
    "        res[\"min_swaps\"],\n",
    "        res[\"min_depth\"] - VF2Q.circuit.depth(),\n",
    "        res[\"min_gates\"] - len(VF2Q.circuit),\n",
    "        res[\"min_runtime\"]\n",
    "    ])\n",
    "\n",
    "csv_file.close()"
   ]
  }
 ],
 "metadata": {
  "kernelspec": {
   "display_name": "Python 3",
   "language": "python",
   "name": "python3"
  },
  "language_info": {
   "codemirror_mode": {
    "name": "ipython",
    "version": 3
   },
   "file_extension": ".py",
   "mimetype": "text/x-python",
   "name": "python",
   "nbconvert_exporter": "python",
   "pygments_lexer": "ipython3",
   "version": "3.11.0"
  },
  "orig_nbformat": 4
 },
 "nbformat": 4,
 "nbformat_minor": 2
}
