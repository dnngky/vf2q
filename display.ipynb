{
 "cells": [
  {
   "cell_type": "code",
   "execution_count": 1,
   "metadata": {},
   "outputs": [],
   "source": [
    "from ag import tokyo, rochester, sycamore54\n",
    "from vf2q import VF2Q\n",
    "from qiskit.circuit import QuantumCircuit\n",
    "import time"
   ]
  },
  {
   "cell_type": "code",
   "execution_count": 22,
   "metadata": {},
   "outputs": [],
   "source": [
    "VF2Q.archgraph = sycamore54()\n",
    "VF2Q.circuit = QuantumCircuit.from_qasm_file(\"./benchmark/20Q_depth_Tokyo/20QBT_depth_Tokyo_large_opt_1_2.55_no.9.qasm\")"
   ]
  },
  {
   "cell_type": "code",
   "execution_count": 23,
   "metadata": {},
   "outputs": [
    {
     "name": "stdout",
     "output_type": "stream",
     "text": [
      "runtime: 0.10373401641845703\n",
      "subcircuits: 18 -> 2 (-16)\n",
      "maps: [Layout({\n",
      "2: Qubit(QuantumRegister(20, 'q'), 0),\n",
      "7: Qubit(QuantumRegister(20, 'q'), 8),\n",
      "1: Qubit(QuantumRegister(20, 'q'), 11),\n",
      "14: Qubit(QuantumRegister(20, 'q'), 4),\n",
      "6: Qubit(QuantumRegister(20, 'q'), 10),\n",
      "13: Qubit(QuantumRegister(20, 'q'), 5),\n",
      "18: Qubit(QuantumRegister(20, 'q'), 3),\n",
      "25: Qubit(QuantumRegister(20, 'q'), 18),\n",
      "19: Qubit(QuantumRegister(20, 'q'), 9),\n",
      "30: Qubit(QuantumRegister(20, 'q'), 6),\n",
      "9: Qubit(QuantumRegister(20, 'q'), 1),\n",
      "3: Qubit(QuantumRegister(20, 'q'), 7),\n",
      "8: Qubit(QuantumRegister(20, 'q'), 2),\n",
      "15: Qubit(QuantumRegister(20, 'q'), 19),\n",
      "48: Qubit(QuantumRegister(20, 'q'), 12),\n",
      "10: Qubit(QuantumRegister(20, 'q'), 13),\n",
      "11: Qubit(QuantumRegister(20, 'q'), 14),\n",
      "36: Qubit(QuantumRegister(20, 'q'), 15),\n",
      "4: Qubit(QuantumRegister(20, 'q'), 16),\n",
      "47: Qubit(QuantumRegister(20, 'q'), 17)\n",
      "}), Layout({\n",
      "0: Qubit(QuantumRegister(20, 'q'), 3),\n",
      "6: Qubit(QuantumRegister(20, 'q'), 2),\n",
      "13: Qubit(QuantumRegister(20, 'q'), 9),\n",
      "1: Qubit(QuantumRegister(20, 'q'), 19),\n",
      "7: Qubit(QuantumRegister(20, 'q'), 11),\n",
      "18: Qubit(QuantumRegister(20, 'q'), 18),\n",
      "14: Qubit(QuantumRegister(20, 'q'), 0),\n",
      "2: Qubit(QuantumRegister(20, 'q'), 10),\n",
      "24: Qubit(QuantumRegister(20, 'q'), 6),\n",
      "19: Qubit(QuantumRegister(20, 'q'), 8),\n",
      "30: Qubit(QuantumRegister(20, 'q'), 15),\n",
      "8: Qubit(QuantumRegister(20, 'q'), 5),\n",
      "3: Qubit(QuantumRegister(20, 'q'), 4),\n",
      "9: Qubit(QuantumRegister(20, 'q'), 7),\n",
      "4: Qubit(QuantumRegister(20, 'q'), 16),\n",
      "16: Qubit(QuantumRegister(20, 'q'), 1),\n",
      "10: Qubit(QuantumRegister(20, 'q'), 13),\n",
      "48: Qubit(QuantumRegister(20, 'q'), 12),\n",
      "11: Qubit(QuantumRegister(20, 'q'), 14),\n",
      "47: Qubit(QuantumRegister(20, 'q'), 17)\n",
      "})]\n",
      "swaps: [[(8, 14), (13, 7), (14, 7), (19, 13), (1, 7), (20, 27), (27, 21), (21, 16), (16, 9), (9, 3), (3, 8), (8, 14), (8, 2), (13, 6), (7, 14), (7, 13), (13, 6), (6, 1), (7, 14), (14, 8), (8, 2), (13, 18), (6, 13), (0, 6), (6, 13), (13, 18), (18, 25), (24, 30), (8, 15), (2, 8), (7, 2), (1, 7), (7, 2), (2, 8), (8, 15), (30, 36)]]\n",
      "cost: 45\n",
      "depth: 18 -> 31 (+13)\n",
      "gates: 133 -> 169 (+36)\n"
     ]
    }
   ],
   "source": [
    "start = time.time()\n",
    "VF2Q.partition_circuit(max_iter=200, max_calls=200)\n",
    "VF2Q.match_subcircs(w1=200, w2=200)\n",
    "VF2Q.apply_swaps()\n",
    "VF2Q.transform_circuit()\n",
    "\n",
    "print(f\"runtime: {time.time() - start}\")\n",
    "print(f\"subcircuits: {VF2Q.circuit.depth()} -> {len(VF2Q.subcircs)} ({len(VF2Q.subcircs) - VF2Q.circuit.depth()})\")\n",
    "print(f\"maps: {VF2Q.maps}\")\n",
    "print(f\"swaps: {VF2Q.swaps}\")\n",
    "print(f\"cost: {VF2Q.cost}\")\n",
    "print(f\"depth: {VF2Q.circuit.depth()} -> {VF2Q.transformed_circ.depth()} (+{VF2Q.transformed_circ.depth() - VF2Q.circuit.depth()})\")\n",
    "print(f\"gates: {len(VF2Q.circuit.data)} -> {len(VF2Q.transformed_circ.data)} (+{len(VF2Q.transformed_circ.data) - len(VF2Q.circuit.data)})\")"
   ]
  }
 ],
 "metadata": {
  "kernelspec": {
   "display_name": "Python 3",
   "language": "python",
   "name": "python3"
  },
  "language_info": {
   "codemirror_mode": {
    "name": "ipython",
    "version": 3
   },
   "file_extension": ".py",
   "mimetype": "text/x-python",
   "name": "python",
   "nbconvert_exporter": "python",
   "pygments_lexer": "ipython3",
   "version": "3.11.0"
  },
  "orig_nbformat": 4
 },
 "nbformat": 4,
 "nbformat_minor": 2
}
