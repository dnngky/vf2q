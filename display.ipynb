{
 "cells": [
  {
   "cell_type": "code",
   "execution_count": 1,
   "metadata": {},
   "outputs": [],
   "source": [
    "from ag import tokyo, rochester, sycamore54\n",
    "from vf2q import VF2Q\n",
    "from qiskit.circuit import QuantumCircuit\n",
    "import time"
   ]
  },
  {
   "cell_type": "code",
   "execution_count": 2,
   "metadata": {},
   "outputs": [],
   "source": [
    "VF2Q.archgraph = sycamore54()\n",
    "VF2Q.circuit = QuantumCircuit.from_qasm_file(\"./benchmark/6Qbench/6QBT_large_depth_opt_1_2.55_no.0.qasm\")"
   ]
  },
  {
   "cell_type": "code",
   "execution_count": 12,
   "metadata": {},
   "outputs": [
    {
     "name": "stdout",
     "output_type": "stream",
     "text": [
      "runtime: 0.03221940994262695\n",
      "subcircuits: 14 -> 2 (-12)\n",
      "maps: [Layout({\n",
      "2: Qubit(QuantumRegister(6, 'q'), 3),\n",
      "7: Qubit(QuantumRegister(6, 'q'), 5),\n",
      "1: Qubit(QuantumRegister(6, 'q'), 2),\n",
      "6: Qubit(QuantumRegister(6, 'q'), 4),\n",
      "12: Qubit(QuantumRegister(6, 'q'), 0),\n",
      "18: Qubit(QuantumRegister(6, 'q'), 1)\n",
      "}), Layout({\n",
      "0: Qubit(QuantumRegister(6, 'q'), 1),\n",
      "6: Qubit(QuantumRegister(6, 'q'), 0),\n",
      "1: Qubit(QuantumRegister(6, 'q'), 5),\n",
      "7: Qubit(QuantumRegister(6, 'q'), 2),\n",
      "2: Qubit(QuantumRegister(6, 'q'), 3),\n",
      "8: Qubit(QuantumRegister(6, 'q'), 4)\n",
      "})]\n",
      "swaps: [[(1, 7), (6, 13), (12, 6), (13, 19), (18, 12), (19, 14), (14, 8), (6, 12), (6, 0), (12, 6)]]\n",
      "cost: 15\n",
      "depth: 14 -> 20 (+6)\n",
      "gates: 50 -> 60 (+10)\n"
     ]
    }
   ],
   "source": [
    "start = time.time()\n",
    "VF2Q.partition_circuit(max_calls=200)\n",
    "VF2Q.match_subcircs()\n",
    "VF2Q.apply_swaps()\n",
    "VF2Q.transform_circuit()\n",
    "end = time.time()\n",
    "\n",
    "print(f\"runtime: {end - start}\")\n",
    "print(f\"subcircuits: {VF2Q.circuit.depth()} -> {len(VF2Q.subcircs)} ({len(VF2Q.subcircs) - VF2Q.circuit.depth()})\")\n",
    "print(f\"maps: {VF2Q.maps}\")\n",
    "print(f\"swaps: {VF2Q.swaps}\")\n",
    "print(f\"cost: {VF2Q.cost}\")\n",
    "print(f\"depth: {VF2Q.circuit.depth()} -> {VF2Q.transformed_circ.depth()} (+{VF2Q.transformed_circ.depth() - VF2Q.circuit.depth()})\")\n",
    "print(f\"gates: {len(VF2Q.circuit.data)} -> {len(VF2Q.transformed_circ.data)} (+{len(VF2Q.transformed_circ.data) - len(VF2Q.circuit.data)})\")"
   ]
  }
 ],
 "metadata": {
  "kernelspec": {
   "display_name": "Python 3",
   "language": "python",
   "name": "python3"
  },
  "language_info": {
   "codemirror_mode": {
    "name": "ipython",
    "version": 3
   },
   "file_extension": ".py",
   "mimetype": "text/x-python",
   "name": "python",
   "nbconvert_exporter": "python",
   "pygments_lexer": "ipython3",
   "version": "3.11.0"
  },
  "orig_nbformat": 4
 },
 "nbformat": 4,
 "nbformat_minor": 2
}
